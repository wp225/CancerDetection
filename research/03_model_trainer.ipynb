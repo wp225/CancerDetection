{
 "cells": [
  {
   "metadata": {
    "ExecuteTime": {
     "end_time": "2024-06-19T09:15:40.193648Z",
     "start_time": "2024-06-19T09:15:40.189861Z"
    }
   },
   "cell_type": "code",
   "source": [
    "\n",
    "import config\n",
    "%pwd"
   ],
   "id": "557e30bf487d5e36",
   "outputs": [
    {
     "data": {
      "text/plain": [
       "'/Users/anshujoshi/PycharmProjects/CancerDetection'"
      ]
     },
     "execution_count": 5,
     "metadata": {},
     "output_type": "execute_result"
    }
   ],
   "execution_count": 5
  },
  {
   "metadata": {
    "ExecuteTime": {
     "end_time": "2024-06-19T09:15:41.660041Z",
     "start_time": "2024-06-19T09:15:41.654714Z"
    }
   },
   "cell_type": "code",
   "source": [
    "from dataclasses import dataclass\n",
    "from pathlib import Path\n",
    "from typing import List\n",
    "\n",
    "\n",
    "@dataclass(frozen=True)\n",
    "class TrainingConfig:\n",
    "    root_dir: Path\n",
    "    trained_model_path: Path\n",
    "    updated_base_model_path: Path\n",
    "    training_data: Path\n",
    "    params_epoch: int\n",
    "    params_batch_size: int\n",
    "    params_is_augmented: bool\n",
    "    params_image_size: List"
   ],
   "id": "5b33190b3ff08e8c",
   "outputs": [],
   "execution_count": 6
  },
  {
   "metadata": {
    "ExecuteTime": {
     "end_time": "2024-06-19T09:15:42.631303Z",
     "start_time": "2024-06-19T09:15:42.579444Z"
    }
   },
   "cell_type": "code",
   "source": [
    "from cnnClassifier.utils.common import *\n",
    "from cnnClassifier.constants import *"
   ],
   "id": "538788abab1ef027",
   "outputs": [
    {
     "name": "stdout",
     "output_type": "stream",
     "text": [
      "CONFIG_FILE_PATH set to: config/config.yaml\n",
      "PARAMS_FILE_PATH set to: params.yaml\n"
     ]
    }
   ],
   "execution_count": 7
  },
  {
   "metadata": {
    "ExecuteTime": {
     "end_time": "2024-06-19T09:15:42.900784Z",
     "start_time": "2024-06-19T09:15:42.894533Z"
    }
   },
   "cell_type": "code",
   "source": [
    "class ConfigManager:\n",
    "    def __init__(self,\n",
    "                 config_file_path=CONFIG_FILE_PATH\n",
    "                 , params_file_path=PARAMS_FILE_PATH\n",
    "                 ):\n",
    "        self.config = read_yaml(config_file_path)\n",
    "        self.params = read_yaml(params_file_path)\n",
    "\n",
    "        create_directories([self.config.artifacts_root])\n",
    "\n",
    "    def get_training_config(self) -> TrainingConfig:\n",
    "        training = self.config.training\n",
    "        prepare_base_model = self.config.prepare_base_model\n",
    "        params = self.params\n",
    "        training_data = os.path.join(self.config.data_ingestion.unzip_dir, 'Chest-CT-Scan-data')\n",
    "\n",
    "        create_directories([training.root_dir])\n",
    "\n",
    "        training_config = TrainingConfig(\n",
    "            root_dir=Path(training.root_dir),\n",
    "            trained_model_path=Path(training.trained_model_path),\n",
    "            updated_base_model_path=Path(prepare_base_model.updated_base_model),\n",
    "            training_data=Path(training_data),\n",
    "            params_epoch=params.EPOCH,\n",
    "            params_batch_size=params.BATCH_SIZE,\n",
    "            params_is_augmented=params.AUGMENTATION,\n",
    "            params_image_size=params.IMAGE_SIZE,\n",
    "        )\n",
    "\n",
    "        return training_config\n"
   ],
   "id": "3929de61b77a15c9",
   "outputs": [],
   "execution_count": 8
  },
  {
   "metadata": {
    "ExecuteTime": {
     "end_time": "2024-06-19T09:15:43.243242Z",
     "start_time": "2024-06-19T09:15:43.240370Z"
    }
   },
   "cell_type": "code",
   "source": [
    "import tensorflow as tf\n",
    "from cnnClassifier import logger"
   ],
   "id": "407c11db140fd34e",
   "outputs": [],
   "execution_count": 9
  },
  {
   "metadata": {
    "ExecuteTime": {
     "end_time": "2024-06-19T09:41:18.218570Z",
     "start_time": "2024-06-19T09:41:18.193Z"
    }
   },
   "cell_type": "code",
   "source": [
    "class Train:\n",
    "    def __init__(self, config: TrainingConfig):\n",
    "        self.config = config\n",
    "        self.model = None\n",
    "    \n",
    "    def get_base_model(self):\n",
    "        try:\n",
    "            self.model = tf.keras.models.load_model(self.config.updated_base_model_path)\n",
    "            logger.info(\"Model loaded successfully.\")\n",
    "        except Exception as e:\n",
    "            logger.error(f\"Failed to load model: {e}\")\n",
    "    \n",
    "    def train_valid_generator(self):\n",
    "        seed = 132\n",
    "        image_size = tuple(self.config.params_image_size[:2]) \n",
    "\n",
    "        try:\n",
    "            logger.info('Trying train generator')\n",
    "\n",
    "            data_augmentation = tf.keras.Sequential([\n",
    "                tf.keras.layers.RandomFlip(\"horizontal_and_vertical\"),\n",
    "                tf.keras.layers.RandomRotation(0.2),\n",
    "                tf.keras.layers.RandomZoom(0.2),\n",
    "            ]) if self.config.params_is_augmented else None\n",
    "\n",
    "            def preprocess(image, label):\n",
    "                if data_augmentation:\n",
    "                    image = data_augmentation(image)\n",
    "                return image, label\n",
    "\n",
    "            self.train_generator = tf.keras.utils.image_dataset_from_directory(\n",
    "                directory=self.config.training_data,\n",
    "                batch_size=self.config.params_batch_size,\n",
    "                image_size=image_size,\n",
    "                labels='inferred',\n",
    "                label_mode='categorical',\n",
    "                class_names=['adenocarcinoma', 'normal'],\n",
    "                subset='training',\n",
    "                seed=seed,\n",
    "                color_mode='rgb' if self.config.params_image_size[2] == 3 else 'grayscale',\n",
    "                validation_split=0.2,\n",
    "            ).map(preprocess, num_parallel_calls=tf.data.AUTOTUNE).cache().prefetch(tf.data.AUTOTUNE)\n",
    "\n",
    "            logger.info('Train generator created successfully')\n",
    "        except Exception as e:\n",
    "            logger.error(f'Failed train generator: {e}')\n",
    "            self.train_generator = None\n",
    "\n",
    "        try:\n",
    "            logger.info('Trying validation generator')\n",
    "            self.val_generator = tf.keras.utils.image_dataset_from_directory(\n",
    "                directory=self.config.training_data,\n",
    "                batch_size=self.config.params_batch_size,\n",
    "                image_size=image_size,\n",
    "                labels='inferred',\n",
    "                label_mode='categorical',\n",
    "                class_names=['adenocarcinoma', 'normal'],\n",
    "                subset='validation',\n",
    "                seed=seed,\n",
    "                color_mode='rgb' if self.config.params_image_size[2] == 3 else 'grayscale',\n",
    "                validation_split=0.2,\n",
    "            ).cache().prefetch(tf.data.AUTOTUNE)\n",
    "\n",
    "            logger.info('Validation generator created successfully')\n",
    "        except Exception as e:\n",
    "            logger.error(f'Failed validation generator: {e}')\n",
    "            self.val_generator = None\n",
    "    \n",
    "    def train(self):\n",
    "        if self.model is not None and self.train_generator is not None and self.val_generator is not None:\n",
    "            self.model.fit(\n",
    "                self.train_generator,\n",
    "                validation_data=self.val_generator,\n",
    "                epochs=self.config.params_epoch\n",
    "            )\n",
    "            logger.info(\"Model training completed.\")\n",
    "            \n",
    "            \n",
    "            self.save_model(path=self.config.trained_model_path,model=self.model)\n",
    "        else:\n",
    "            logger.error(\"Training or validation generator not initialized properly or model not loaded.\")\n",
    "        \n",
    "\n",
    "    @staticmethod\n",
    "    def save_model(path : Path,model : tf.keras.Model):\n",
    "        model.save(path)\n",
    "        "
   ],
   "id": "10dc425dcc262de9",
   "outputs": [],
   "execution_count": 18
  },
  {
   "metadata": {
    "ExecuteTime": {
     "end_time": "2024-06-19T09:41:19.024825Z",
     "start_time": "2024-06-19T09:41:18.746536Z"
    }
   },
   "cell_type": "code",
   "source": [
    "obj = ConfigManager()\n",
    "Train_config = obj.get_training_config()\n",
    "trainer = Train(Train_config)\n",
    "trainer.get_base_model()\n",
    "trainer.train_valid_generator()"
   ],
   "id": "ebe2462301d1189",
   "outputs": [
    {
     "name": "stdout",
     "output_type": "stream",
     "text": [
      "[2024-06-19 15:26:18,752: INFO: common: yaml config/config.yaml loaded successfully]\n",
      "[2024-06-19 15:26:18,755: INFO: common: yaml params.yaml loaded successfully]\n",
      "[2024-06-19 15:26:18,756: INFO: common: created directory at: artifacts]\n",
      "[2024-06-19 15:26:18,757: INFO: common: created directory at: artifacts/training]\n",
      "[2024-06-19 15:26:18,967: INFO: 2552327953: Model loaded successfully.]\n",
      "[2024-06-19 15:26:18,968: INFO: 2552327953: Trying train generator]\n",
      "Found 343 files belonging to 2 classes.\n",
      "Using 275 files for training.\n",
      "[2024-06-19 15:26:19,003: INFO: 2552327953: Train generator created successfully]\n",
      "[2024-06-19 15:26:19,004: INFO: 2552327953: Trying validation generator]\n",
      "Found 343 files belonging to 2 classes.\n",
      "Using 68 files for validation.\n",
      "[2024-06-19 15:26:19,023: INFO: 2552327953: Validation generator created successfully]\n"
     ]
    }
   ],
   "execution_count": 19
  },
  {
   "metadata": {
    "ExecuteTime": {
     "end_time": "2024-06-19T09:48:05.462751Z",
     "start_time": "2024-06-19T09:41:19.169348Z"
    }
   },
   "cell_type": "code",
   "source": [
    "import mlflow\n",
    "mlflow.tensorflow.autolog()\n",
    "mlflow.set_experiment(experiment_name='BaseLine')\n",
    "\n",
    "with mlflow.start_run(run_name='Default'):\n",
    "    trainer.train()"
   ],
   "id": "b9856b6ff725f10c",
   "outputs": [
    {
     "name": "stderr",
     "output_type": "stream",
     "text": [
      "2024/06/19 15:26:19 WARNING mlflow.utils.autologging_utils: You are using an unsupported version of tensorflow. If you encounter errors during autologging, try upgrading / downgrading tensorflow to a supported version, or try upgrading MLflow.\n"
     ]
    },
    {
     "name": "stdout",
     "output_type": "stream",
     "text": [
      "Epoch 1/10\n",
      "35/35 [==============================] - 33s 934ms/step - loss: 1.7993 - accuracy: 0.8436 - val_loss: 1.1033 - val_accuracy: 0.9412\n",
      "Epoch 2/10\n",
      "35/35 [==============================] - 36s 1s/step - loss: 0.2190 - accuracy: 0.9564 - val_loss: 0.5971 - val_accuracy: 0.9412\n",
      "Epoch 3/10\n",
      "35/35 [==============================] - 39s 1s/step - loss: 0.0082 - accuracy: 0.9927 - val_loss: 0.0997 - val_accuracy: 0.9853\n",
      "Epoch 4/10\n",
      "35/35 [==============================] - 41s 1s/step - loss: 0.0030 - accuracy: 0.9964 - val_loss: 0.3301 - val_accuracy: 0.9559\n",
      "Epoch 5/10\n",
      "35/35 [==============================] - 41s 1s/step - loss: 0.0029 - accuracy: 1.0000 - val_loss: 0.2852 - val_accuracy: 0.9559\n",
      "Epoch 6/10\n",
      "35/35 [==============================] - 41s 1s/step - loss: 5.2755e-04 - accuracy: 1.0000 - val_loss: 0.0953 - val_accuracy: 0.9853\n",
      "Epoch 7/10\n",
      "35/35 [==============================] - 41s 1s/step - loss: 2.7996e-06 - accuracy: 1.0000 - val_loss: 0.1177 - val_accuracy: 0.9853\n",
      "Epoch 8/10\n",
      "35/35 [==============================] - 42s 1s/step - loss: 9.6060e-07 - accuracy: 1.0000 - val_loss: 0.1185 - val_accuracy: 0.9853\n",
      "Epoch 9/10\n",
      "35/35 [==============================] - 43s 1s/step - loss: 9.3329e-07 - accuracy: 1.0000 - val_loss: 0.1187 - val_accuracy: 0.9853\n",
      "Epoch 10/10\n",
      "35/35 [==============================] - 47s 1s/step - loss: 9.1941e-07 - accuracy: 1.0000 - val_loss: 0.1189 - val_accuracy: 0.9853\n",
      "1/1 [==============================] - 1s 768ms/step\n",
      "INFO:tensorflow:Assets written to: /var/folders/4n/gbrmm4bs17ldvh4_ypty4z5c0000gn/T/tmpllwi4doa/model/data/model/assets\n",
      "[2024-06-19 15:33:05,284: INFO: builder_impl: Assets written to: /var/folders/4n/gbrmm4bs17ldvh4_ypty4z5c0000gn/T/tmpllwi4doa/model/data/model/assets]\n"
     ]
    },
    {
     "name": "stderr",
     "output_type": "stream",
     "text": [
      "2024/06/19 15:33:05 WARNING mlflow.utils.autologging_utils: Encountered unexpected error during tensorflow autologging: module 'tensorflow.keras' has no attribute '__version__'\n"
     ]
    },
    {
     "name": "stdout",
     "output_type": "stream",
     "text": [
      "[2024-06-19 15:33:05,315: INFO: 2552327953: Model training completed.]\n"
     ]
    },
    {
     "name": "stderr",
     "output_type": "stream",
     "text": [
      "/Users/anshujoshi/anaconda3/envs/cancer/lib/python3.8/site-packages/keras/src/engine/training.py:3000: UserWarning: You are saving your model as an HDF5 file via `model.save()`. This file format is considered legacy. We recommend using instead the native Keras format, e.g. `model.save('my_model.keras')`.\n",
      "  saving_api.save_model(\n"
     ]
    }
   ],
   "execution_count": 20
  },
  {
   "metadata": {
    "ExecuteTime": {
     "end_time": "2024-06-19T09:25:17.175958Z",
     "start_time": "2024-06-19T09:18:06.307710Z"
    }
   },
   "cell_type": "code",
   "source": [
    "with mlflow.start_run(run_name='epoch-10'):\n",
    "    trainer.train()"
   ],
   "id": "3428560734c3d79d",
   "outputs": [
    {
     "name": "stdout",
     "output_type": "stream",
     "text": [
      "Epoch 1/10\n",
      "35/35 [==============================] - 34s 971ms/step - loss: 2.7581 - accuracy: 0.7709 - val_loss: 2.0179 - val_accuracy: 0.7941\n",
      "Epoch 2/10\n",
      "35/35 [==============================] - 37s 1s/step - loss: 0.2081 - accuracy: 0.9527 - val_loss: 1.0250 - val_accuracy: 0.9559\n",
      "Epoch 3/10\n",
      "35/35 [==============================] - 40s 1s/step - loss: 0.1720 - accuracy: 0.9600 - val_loss: 2.1892 - val_accuracy: 0.7647\n",
      "Epoch 4/10\n",
      "35/35 [==============================] - 41s 1s/step - loss: 0.0047 - accuracy: 0.9964 - val_loss: 1.2907 - val_accuracy: 0.8824\n",
      "Epoch 5/10\n",
      "35/35 [==============================] - 48s 1s/step - loss: 0.0172 - accuracy: 0.9927 - val_loss: 1.2700 - val_accuracy: 0.9118\n",
      "Epoch 6/10\n",
      "35/35 [==============================] - 45s 1s/step - loss: 0.0207 - accuracy: 0.9855 - val_loss: 2.0538 - val_accuracy: 0.7941\n",
      "Epoch 7/10\n",
      "35/35 [==============================] - 50s 1s/step - loss: 0.2062 - accuracy: 0.9527 - val_loss: 1.0305 - val_accuracy: 0.9265\n",
      "Epoch 8/10\n",
      "35/35 [==============================] - 45s 1s/step - loss: 0.1508 - accuracy: 0.9745 - val_loss: 1.5317 - val_accuracy: 0.9118\n",
      "Epoch 9/10\n",
      "35/35 [==============================] - 45s 1s/step - loss: 0.0226 - accuracy: 0.9964 - val_loss: 1.0550 - val_accuracy: 0.9265\n",
      "Epoch 10/10\n",
      "35/35 [==============================] - 43s 1s/step - loss: 3.9610e-04 - accuracy: 1.0000 - val_loss: 1.3128 - val_accuracy: 0.9118\n",
      "1/1 [==============================] - 1s 728ms/step\n",
      "INFO:tensorflow:Assets written to: /var/folders/4n/gbrmm4bs17ldvh4_ypty4z5c0000gn/T/tmp51kggwvx/model/data/model/assets\n",
      "[2024-06-19 15:10:17,023: INFO: builder_impl: Assets written to: /var/folders/4n/gbrmm4bs17ldvh4_ypty4z5c0000gn/T/tmp51kggwvx/model/data/model/assets]\n"
     ]
    },
    {
     "name": "stderr",
     "output_type": "stream",
     "text": [
      "2024/06/19 15:10:17 WARNING mlflow.utils.autologging_utils: Encountered unexpected error during tensorflow autologging: module 'tensorflow.keras' has no attribute '__version__'\n"
     ]
    },
    {
     "name": "stdout",
     "output_type": "stream",
     "text": [
      "[2024-06-19 15:10:17,047: INFO: 2552327953: Model training completed.]\n"
     ]
    },
    {
     "name": "stderr",
     "output_type": "stream",
     "text": [
      "/Users/anshujoshi/anaconda3/envs/cancer/lib/python3.8/site-packages/keras/src/engine/training.py:3000: UserWarning: You are saving your model as an HDF5 file via `model.save()`. This file format is considered legacy. We recommend using instead the native Keras format, e.g. `model.save('my_model.keras')`.\n",
      "  saving_api.save_model(\n"
     ]
    }
   ],
   "execution_count": 17
  }
 ],
 "metadata": {
  "kernelspec": {
   "display_name": "Python 3",
   "language": "python",
   "name": "python3"
  },
  "language_info": {
   "codemirror_mode": {
    "name": "ipython",
    "version": 2
   },
   "file_extension": ".py",
   "mimetype": "text/x-python",
   "name": "python",
   "nbconvert_exporter": "python",
   "pygments_lexer": "ipython2",
   "version": "2.7.6"
  }
 },
 "nbformat": 4,
 "nbformat_minor": 5
}
