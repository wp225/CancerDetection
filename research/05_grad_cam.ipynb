{
 "cells": [
  {
   "cell_type": "code",
   "id": "initial_id",
   "metadata": {
    "collapsed": true,
    "ExecuteTime": {
     "end_time": "2024-06-21T08:57:07.166461Z",
     "start_time": "2024-06-21T08:57:07.156255Z"
    }
   },
   "source": [
    "from tensorflow.keras.models import load_model\n",
    "from tensorflow.keras.preprocessing import image\n",
    "from tensorflow.keras.models import Model\n",
    "import numpy as np \n",
    "import tensorflow.keras as keras\n",
    "import tensorflow as tf\n",
    "\n",
    "import config"
   ],
   "outputs": [],
   "execution_count": 135
  },
  {
   "metadata": {
    "ExecuteTime": {
     "end_time": "2024-06-21T08:57:34.825910Z",
     "start_time": "2024-06-21T08:57:34.488954Z"
    }
   },
   "cell_type": "code",
   "source": [
    "model = load_model('artifacts/training/model.h5')\n",
    "model.summary()\n",
    "\n",
    "#last conv layer = 'block5_conv3'"
   ],
   "id": "fe082404a32f245f",
   "outputs": [
    {
     "name": "stdout",
     "output_type": "stream",
     "text": [
      "Model: \"model\"\n",
      "_________________________________________________________________\n",
      " Layer (type)                Output Shape              Param #   \n",
      "=================================================================\n",
      " input_1 (InputLayer)        [(None, 224, 224, 3)]     0         \n",
      "                                                                 \n",
      " block1_conv1 (Conv2D)       (None, 224, 224, 64)      1792      \n",
      "                                                                 \n",
      " block1_conv2 (Conv2D)       (None, 224, 224, 64)      36928     \n",
      "                                                                 \n",
      " block1_pool (MaxPooling2D)  (None, 112, 112, 64)      0         \n",
      "                                                                 \n",
      " block2_conv1 (Conv2D)       (None, 112, 112, 128)     73856     \n",
      "                                                                 \n",
      " block2_conv2 (Conv2D)       (None, 112, 112, 128)     147584    \n",
      "                                                                 \n",
      " block2_pool (MaxPooling2D)  (None, 56, 56, 128)       0         \n",
      "                                                                 \n",
      " block3_conv1 (Conv2D)       (None, 56, 56, 256)       295168    \n",
      "                                                                 \n",
      " block3_conv2 (Conv2D)       (None, 56, 56, 256)       590080    \n",
      "                                                                 \n",
      " block3_conv3 (Conv2D)       (None, 56, 56, 256)       590080    \n",
      "                                                                 \n",
      " block3_pool (MaxPooling2D)  (None, 28, 28, 256)       0         \n",
      "                                                                 \n",
      " block4_conv1 (Conv2D)       (None, 28, 28, 512)       1180160   \n",
      "                                                                 \n",
      " block4_conv2 (Conv2D)       (None, 28, 28, 512)       2359808   \n",
      "                                                                 \n",
      " block4_conv3 (Conv2D)       (None, 28, 28, 512)       2359808   \n",
      "                                                                 \n",
      " block4_pool (MaxPooling2D)  (None, 14, 14, 512)       0         \n",
      "                                                                 \n",
      " block5_conv1 (Conv2D)       (None, 14, 14, 512)       2359808   \n",
      "                                                                 \n",
      " block5_conv2 (Conv2D)       (None, 14, 14, 512)       2359808   \n",
      "                                                                 \n",
      " block5_conv3 (Conv2D)       (None, 14, 14, 512)       2359808   \n",
      "                                                                 \n",
      " block5_pool (MaxPooling2D)  (None, 7, 7, 512)         0         \n",
      "                                                                 \n",
      " global_average_pooling2d (  (None, 512)               0         \n",
      " GlobalAveragePooling2D)                                         \n",
      "                                                                 \n",
      " dense (Dense)               (None, 1024)              525312    \n",
      "                                                                 \n",
      " dense_1 (Dense)             (None, 2)                 2050      \n",
      "                                                                 \n",
      "=================================================================\n",
      "Total params: 15242050 (58.14 MB)\n",
      "Trainable params: 527362 (2.01 MB)\n",
      "Non-trainable params: 14714688 (56.13 MB)\n",
      "_________________________________________________________________\n"
     ]
    }
   ],
   "execution_count": 137
  },
  {
   "metadata": {
    "ExecuteTime": {
     "end_time": "2024-06-21T08:25:40.235568Z",
     "start_time": "2024-06-21T08:25:40.232160Z"
    }
   },
   "cell_type": "code",
   "source": [
    "img_path= 'artifacts/data_ingestion/Chest-CT-Scan-data/adenocarcinoma/000008 (10).png'\n",
    "last_conv_layer_name = 'block5_conv3'\n",
    "classifier_layer_names = ['global_average_pooling2d','dense','dense_1']"
   ],
   "id": "4d56044d45a85dda",
   "outputs": [],
   "execution_count": 79
  },
  {
   "metadata": {
    "ExecuteTime": {
     "end_time": "2024-06-21T08:20:39.657700Z",
     "start_time": "2024-06-21T08:20:39.642067Z"
    }
   },
   "cell_type": "code",
   "source": [
    "def get_image_array(path):\n",
    "    img = image.load_img(path,target_size=(224,224,3))\n",
    "    img = image.img_to_array(img) #np.float32\n",
    "    array = np.expand_dims(img,axis=0)\n",
    "    return array\n",
    "\n",
    "print(get_image_array(path=img_path).shape)"
   ],
   "id": "a06a2170e9788d46",
   "outputs": [
    {
     "name": "stdout",
     "output_type": "stream",
     "text": [
      "(1, 224, 224, 3)\n"
     ]
    }
   ],
   "execution_count": 76
  },
  {
   "metadata": {
    "ExecuteTime": {
     "end_time": "2024-06-21T09:00:35.049895Z",
     "start_time": "2024-06-21T09:00:33.998685Z"
    }
   },
   "cell_type": "code",
   "source": [
    "def make_gradcam_heatmap(model,image_array,last_conv_layer_name,classifier_layer_names):\n",
    "    last_conv_layer = model.get_layer(last_conv_layer_name)\n",
    "    last_conv_layer_model = Model(\n",
    "        inputs = model.inputs,\n",
    "        outputs = last_conv_layer.output,\n",
    "    )\n",
    "    \n",
    "    classifier_input = keras.Input(shape=last_conv_layer.output.shape[1:])\n",
    "    x = classifier_input\n",
    "    \n",
    "    for layer_name in classifier_layer_names:\n",
    "        x = model.get_layer(layer_name)(x)\n",
    "    classifier_model = Model(classifier_input,x)\n",
    "    \n",
    "    with tf.GradientTape() as tape:\n",
    "        last_conv_layer_output = last_conv_layer_model(image_array)\n",
    "        tape.watch(last_conv_layer_output)\n",
    "        \n",
    "        preds = classifier_model(last_conv_layer_output)\n",
    "        top_pred_index = np.argmax(preds[0])\n",
    "        top_class_channel = preds[:,top_pred_index]\n",
    "        \n",
    "    grad = tape.gradient(top_class_channel,last_conv_layer_output)\n",
    "    pooled_grad = tf.reduce_mean(grad,axis=(0,1,2))\n",
    "    last_conv_layer_output = last_conv_layer_output.numpy()[0]\n",
    "    pooled_grad = pooled_grad.numpy()\n",
    "    for i in range(pooled_grad.shape[-1]):\n",
    "        last_conv_layer_output[:,:,i] *=pooled_grad[i]\n",
    "        \n",
    "    heatmap = np.mean(last_conv_layer_output,axis=-1)\n",
    "    heatmap = np.maximum(heatmap,0)/np.max(heatmap)\n",
    "    return heatmap\n",
    "\n",
    "img= get_image_array('artifacts/data_ingestion/Chest-CT-Scan-data/normal/2.png')\n",
    "print(make_gradcam_heatmap(image_array=img,\n",
    "                           model=model,\n",
    "                           last_conv_layer_name=last_conv_layer_name,\n",
    "                           classifier_layer_names=classifier_layer_names).shape)\n",
    "    "
   ],
   "id": "15b7118219e68007",
   "outputs": [
    {
     "name": "stdout",
     "output_type": "stream",
     "text": [
      "(14, 14)\n"
     ]
    }
   ],
   "execution_count": 144
  },
  {
   "metadata": {
    "ExecuteTime": {
     "end_time": "2024-06-21T09:21:06.687967Z",
     "start_time": "2024-06-21T09:21:05.781843Z"
    }
   },
   "cell_type": "code",
   "source": [
    "original_img = keras.preprocessing.image.load_img('artifacts/data_ingestion/Chest-CT-Scan-data/adenocarcinoma/000005 (3).png')\n",
    "original_img = keras.preprocessing.image.img_to_array(original_img)\n",
    "img =get_image_array('artifacts/data_ingestion/Chest-CT-Scan-data/normal/2.png')\n",
    "\n",
    "heatmap = make_gradcam_heatmap(image_array=img,\n",
    "                           model=model,\n",
    "                           last_conv_layer_name=last_conv_layer_name,\n",
    "                           classifier_layer_names=classifier_layer_names)\n",
    "import matplotlib.pyplot as plt"
   ],
   "id": "2b96338381f1ccf",
   "outputs": [
    {
     "data": {
      "text/plain": [
       "<matplotlib.image.AxesImage at 0x126e67610>"
      ]
     },
     "execution_count": 166,
     "metadata": {},
     "output_type": "execute_result"
    },
    {
     "data": {
      "text/plain": [
       "<Figure size 480x480 with 1 Axes>"
      ],
      "image/png": "[encoded data removed]"
     },
     "metadata": {},
     "output_type": "display_data"
    }
   ],
   "execution_count": 166
  },
  {
   "metadata": {
    "ExecuteTime": {
     "end_time": "2024-06-21T09:25:27.627016Z",
     "start_time": "2024-06-21T09:25:27.610187Z"
    }
   },
   "cell_type": "code",
   "source": [
    "from matplotlib.pyplot import get_cmap as cm\n",
    "heatmap = np.uint8(255*heatmap)\n",
    "\n",
    "jet = cm('jet')\n",
    "jet_color = jet(np.arange(256))[:,:3]\n",
    "jet_heatmap = jet_color[heatmap]\n",
    "\n",
    "jet_heatmap = keras.preprocessing.image.array_to_img(jet_heatmap)\n",
    "jet_heatmap = jet_heatmap.resize((original_img.shape[1],original_img.shape[0]))\n",
    "jet_heatmap = keras.preprocessing.image.img_to_array(jet_heatmap)\n",
    "\n",
    "superimposed_img = jet_heatmap*0.4+original_img\n",
    "superimposed_img = keras.preprocessing.image.array_to_img(superimposed_img)\n",
    "superimposed_img.save('final.jpeg')"
   ],
   "id": "764779cfcc9f376d",
   "outputs": [],
   "execution_count": 177
  },
  {
   "metadata": {
    "ExecuteTime": {
     "end_time": "2024-06-21T09:23:05.520327Z",
     "start_time": "2024-06-21T09:23:05.505856Z"
    }
   },
   "cell_type": "code",
   "source": "original_img.shape",
   "id": "1598ee27ca0e31a1",
   "outputs": [
    {
     "data": {
      "text/plain": [
       "(243, 397, 3)"
      ]
     },
     "execution_count": 172,
     "metadata": {},
     "output_type": "execute_result"
    }
   ],
   "execution_count": 172
  },
  {
   "metadata": {},
   "cell_type": "code",
   "outputs": [],
   "execution_count": null,
   "source": "",
   "id": "4cc6dd594061b09d"
  },
  {
   "metadata": {
    "ExecuteTime": {
     "end_time": "2024-06-21T10:04:03.713125Z",
     "start_time": "2024-06-21T10:04:03.682856Z"
    }
   },
   "cell_type": "code",
   "source": [
    "last_conv_layer = model.get_layer(last_conv_layer_name)\n",
    "last_conv_layer_model = Model(\n",
    "    inputs = model.inputs,\n",
    "    outputs = last_conv_layer.output,\n",
    ")\n",
    "last_conv_layer.output.shape"
   ],
   "id": "fa65d27d6de6ace5",
   "outputs": [
    {
     "data": {
      "text/plain": [
       "TensorShape([None, 14, 14, 512])"
      ]
     },
     "execution_count": 179,
     "metadata": {},
     "output_type": "execute_result"
    }
   ],
   "execution_count": 179
  },
  {
   "metadata": {
    "ExecuteTime": {
     "end_time": "2024-06-21T10:10:30.192493Z",
     "start_time": "2024-06-21T10:10:30.187896Z"
    }
   },
   "cell_type": "code",
   "source": "model.inputs",
   "id": "cc79677263690ed9",
   "outputs": [
    {
     "data": {
      "text/plain": [
       "[<KerasTensor: shape=(None, 224, 224, 3) dtype=float32 (created by layer 'input_1')>]"
      ]
     },
     "execution_count": 181,
     "metadata": {},
     "output_type": "execute_result"
    }
   ],
   "execution_count": 181
  },
  {
   "metadata": {
    "ExecuteTime": {
     "end_time": "2024-06-21T08:35:16.829682Z",
     "start_time": "2024-06-21T08:35:16.707808Z"
    }
   },
   "cell_type": "code",
   "source": [
    "classifier_input = keras.Input(shape=last_conv_layer.output.shape[1:])\n",
    "x = classifier_input\n",
    "\n",
    "for layer_name in classifier_layer_names:\n",
    "    x = model.get_layer(layer_name)(x)\n",
    "classifier_model = Model(classifier_input,x)"
   ],
   "id": "94d25f11ecb82b67",
   "outputs": [],
   "execution_count": 87
  },
  {
   "metadata": {
    "ExecuteTime": {
     "end_time": "2024-06-21T08:35:27.040987Z",
     "start_time": "2024-06-21T08:35:27.026557Z"
    }
   },
   "cell_type": "code",
   "source": "classifier_model.summary()",
   "id": "b4f479395daa0455",
   "outputs": [
    {
     "name": "stdout",
     "output_type": "stream",
     "text": [
      "Model: \"model_40\"\n",
      "_________________________________________________________________\n",
      " Layer (type)                Output Shape              Param #   \n",
      "=================================================================\n",
      " input_1 (InputLayer)        [(None, 14, 14, 512)]     0         \n",
      "                                                                 \n",
      " global_average_pooling2d (  (None, 512)               0         \n",
      " GlobalAveragePooling2D)                                         \n",
      "                                                                 \n",
      " dense (Dense)               (None, 1024)              525312    \n",
      "                                                                 \n",
      " dense_1 (Dense)             (None, 2)                 2050      \n",
      "                                                                 \n",
      "=================================================================\n",
      "Total params: 527362 (2.01 MB)\n",
      "Trainable params: 527362 (2.01 MB)\n",
      "Non-trainable params: 0 (0.00 Byte)\n",
      "_________________________________________________________________\n"
     ]
    }
   ],
   "execution_count": 89
  },
  {
   "metadata": {
    "ExecuteTime": {
     "end_time": "2024-06-21T08:35:48.885779Z",
     "start_time": "2024-06-21T08:35:48.859066Z"
    }
   },
   "cell_type": "code",
   "source": "last_conv_layer_model.summary()",
   "id": "15ef6d46ca3737d5",
   "outputs": [
    {
     "name": "stdout",
     "output_type": "stream",
     "text": [
      "Model: \"model_39\"\n",
      "_________________________________________________________________\n",
      " Layer (type)                Output Shape              Param #   \n",
      "=================================================================\n",
      " input_1 (InputLayer)        [(None, 224, 224, 3)]     0         \n",
      "                                                                 \n",
      " block1_conv1 (Conv2D)       (None, 224, 224, 64)      1792      \n",
      "                                                                 \n",
      " block1_conv2 (Conv2D)       (None, 224, 224, 64)      36928     \n",
      "                                                                 \n",
      " block1_pool (MaxPooling2D)  (None, 112, 112, 64)      0         \n",
      "                                                                 \n",
      " block2_conv1 (Conv2D)       (None, 112, 112, 128)     73856     \n",
      "                                                                 \n",
      " block2_conv2 (Conv2D)       (None, 112, 112, 128)     147584    \n",
      "                                                                 \n",
      " block2_pool (MaxPooling2D)  (None, 56, 56, 128)       0         \n",
      "                                                                 \n",
      " block3_conv1 (Conv2D)       (None, 56, 56, 256)       295168    \n",
      "                                                                 \n",
      " block3_conv2 (Conv2D)       (None, 56, 56, 256)       590080    \n",
      "                                                                 \n",
      " block3_conv3 (Conv2D)       (None, 56, 56, 256)       590080    \n",
      "                                                                 \n",
      " block3_pool (MaxPooling2D)  (None, 28, 28, 256)       0         \n",
      "                                                                 \n",
      " block4_conv1 (Conv2D)       (None, 28, 28, 512)       1180160   \n",
      "                                                                 \n",
      " block4_conv2 (Conv2D)       (None, 28, 28, 512)       2359808   \n",
      "                                                                 \n",
      " block4_conv3 (Conv2D)       (None, 28, 28, 512)       2359808   \n",
      "                                                                 \n",
      " block4_pool (MaxPooling2D)  (None, 14, 14, 512)       0         \n",
      "                                                                 \n",
      " block5_conv1 (Conv2D)       (None, 14, 14, 512)       2359808   \n",
      "                                                                 \n",
      " block5_conv2 (Conv2D)       (None, 14, 14, 512)       2359808   \n",
      "                                                                 \n",
      " block5_conv3 (Conv2D)       (None, 14, 14, 512)       2359808   \n",
      "                                                                 \n",
      "=================================================================\n",
      "Total params: 14714688 (56.13 MB)\n",
      "Trainable params: 0 (0.00 Byte)\n",
      "Non-trainable params: 14714688 (56.13 MB)\n",
      "_________________________________________________________________\n"
     ]
    }
   ],
   "execution_count": 91
  },
  {
   "metadata": {
    "ExecuteTime": {
     "end_time": "2024-06-21T08:39:32.868384Z",
     "start_time": "2024-06-21T08:39:32.825036Z"
    }
   },
   "cell_type": "code",
   "source": "image = get_image_array('artifacts/data_ingestion/Chest-CT-Scan-data/normal/2.png')",
   "id": "dd1b016b6d618502",
   "outputs": [],
   "execution_count": 92
  },
  {
   "metadata": {
    "ExecuteTime": {
     "end_time": "2024-06-21T08:53:55.575222Z",
     "start_time": "2024-06-21T08:53:54.935125Z"
    }
   },
   "cell_type": "code",
   "source": [
    "with tf.GradientTape() as tape:\n",
    "    last_conv_layer_output = last_conv_layer_model(image)\n",
    "    tape.watch(last_conv_layer_output)\n",
    "    \n",
    "    preds = classifier_model(last_conv_layer_output)\n",
    "    top_pred_index = np.argmax(preds[0])\n",
    "    top_class_channel = preds[:,top_pred_index]\n",
    "    \n",
    "grad = tape.gradient(top_class_channel,last_conv_layer_output)\n",
    "pooled_grad = tf.reduce_mean(grad,axis=(0,1,2))\n",
    "last_conv_layer_output = last_conv_layer_output.numpy()[0]\n",
    "pooled_grad = pooled_grad.numpy()\n",
    "for i in range(pooled_grad.shape[-1]):\n",
    "    last_conv_layer_output[:,:,i] *=pooled_grad[i]\n",
    "    \n",
    "heatmap = np.mean(last_conv_layer_output,axis=-1)\n"
   ],
   "id": "1c6b767d0e413712",
   "outputs": [],
   "execution_count": 129
  },
  {
   "metadata": {
    "ExecuteTime": {
     "end_time": "2024-06-21T08:54:06.606829Z",
     "start_time": "2024-06-21T08:54:06.597507Z"
    }
   },
   "cell_type": "code",
   "source": "heatmap.shape",
   "id": "78c63b17ca4c6bbc",
   "outputs": [
    {
     "data": {
      "text/plain": [
       "(14, 14)"
      ]
     },
     "execution_count": 131,
     "metadata": {},
     "output_type": "execute_result"
    }
   ],
   "execution_count": 131
  },
  {
   "metadata": {
    "ExecuteTime": {
     "end_time": "2024-06-21T08:50:48.178892Z",
     "start_time": "2024-06-21T08:50:48.174575Z"
    }
   },
   "cell_type": "code",
   "source": "pooled_grad[1]",
   "id": "b580f76c40836bbe",
   "outputs": [
    {
     "data": {
      "text/plain": [
       "-6.9785705e-16"
      ]
     },
     "execution_count": 116,
     "metadata": {},
     "output_type": "execute_result"
    }
   ],
   "execution_count": 116
  },
  {
   "metadata": {
    "ExecuteTime": {
     "end_time": "2024-06-21T08:40:29.210252Z",
     "start_time": "2024-06-21T08:40:28.554562Z"
    }
   },
   "cell_type": "code",
   "source": "last_conv_layer_ops = last_conv_layer_model.predict(image)",
   "id": "f61ccfc7457a597f",
   "outputs": [
    {
     "name": "stdout",
     "output_type": "stream",
     "text": [
      "1/1 [==============================] - 0s 467ms/step\n"
     ]
    }
   ],
   "execution_count": 94
  },
  {
   "metadata": {
    "ExecuteTime": {
     "end_time": "2024-06-21T08:41:28.192525Z",
     "start_time": "2024-06-21T08:41:28.121597Z"
    }
   },
   "cell_type": "code",
   "source": "preds = classifier_model.predict(last_conv_layer_ops)",
   "id": "cbebc3f23de0e73c",
   "outputs": [
    {
     "name": "stdout",
     "output_type": "stream",
     "text": [
      "1/1 [==============================] - 0s 10ms/step\n"
     ]
    }
   ],
   "execution_count": 98
  },
  {
   "metadata": {
    "ExecuteTime": {
     "end_time": "2024-06-21T08:41:45.064377Z",
     "start_time": "2024-06-21T08:41:45.037253Z"
    }
   },
   "cell_type": "code",
   "source": [
    "top_pred_index = np.argmax(preds[0])\n",
    "top_pred_index\n"
   ],
   "id": "40c23f1eebfeda9c",
   "outputs": [
    {
     "data": {
      "text/plain": [
       "1"
      ]
     },
     "execution_count": 99,
     "metadata": {},
     "output_type": "execute_result"
    }
   ],
   "execution_count": 99
  },
  {
   "metadata": {
    "ExecuteTime": {
     "end_time": "2024-06-21T08:42:07.141994Z",
     "start_time": "2024-06-21T08:42:07.134636Z"
    }
   },
   "cell_type": "code",
   "source": "top_class_channel = preds[:,top_pred_index]",
   "id": "67a464f3d3309efe",
   "outputs": [],
   "execution_count": 100
  },
  {
   "metadata": {
    "ExecuteTime": {
     "end_time": "2024-06-21T08:42:13.160632Z",
     "start_time": "2024-06-21T08:42:13.148365Z"
    }
   },
   "cell_type": "code",
   "source": "top_class_channel",
   "id": "e74721f0ff213871",
   "outputs": [
    {
     "data": {
      "text/plain": [
       "array([1.], dtype=float32)"
      ]
     },
     "execution_count": 101,
     "metadata": {},
     "output_type": "execute_result"
    }
   ],
   "execution_count": 101
  },
  {
   "metadata": {},
   "cell_type": "code",
   "outputs": [],
   "execution_count": null,
   "source": "",
   "id": "e4c4cf0cafb96033"
  }
 ],
 "metadata": {
  "kernelspec": {
   "display_name": "Python 3",
   "language": "python",
   "name": "python3"
  },
  "language_info": {
   "codemirror_mode": {
    "name": "ipython",
    "version": 2
   },
   "file_extension": ".py",
   "mimetype": "text/x-python",
   "name": "python",
   "nbconvert_exporter": "python",
   "pygments_lexer": "ipython2",
   "version": "2.7.6"
  }
 },
 "nbformat": 4,
 "nbformat_minor": 5
}
