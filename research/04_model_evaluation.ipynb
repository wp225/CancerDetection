{
 "cells": [
  {
   "cell_type": "code",
   "id": "initial_id",
   "metadata": {
    "collapsed": true,
    "ExecuteTime": {
     "end_time": "2024-06-20T07:16:25.179153Z",
     "start_time": "2024-06-20T07:16:25.174681Z"
    }
   },
   "source": [
    "import os\n",
    "import config\n",
    "%pwd\n",
    "import mlflow"
   ],
   "outputs": [],
   "execution_count": 64
  },
  {
   "metadata": {
    "ExecuteTime": {
     "end_time": "2024-06-20T07:16:25.370298Z",
     "start_time": "2024-06-20T07:16:25.366988Z"
    }
   },
   "cell_type": "code",
   "source": [
    "os.environ['MLFLOW_TRACKING_URI'] = 'https://dagshub.com/georgejoshi10/CancerDetection.mlflow'\n",
    "os.environ['MLFLOW_TRACKING_USERNAME'] = 'georgejoshi10'\n",
    "os.environ['MLFLOW_TRACKING_PASSWORD'] = '431f8a5aaf090f3efe9667b7411c28ad8fe32638'"
   ],
   "id": "79080f3cbd8442af",
   "outputs": [],
   "execution_count": 65
  },
  {
   "metadata": {
    "ExecuteTime": {
     "end_time": "2024-06-20T07:16:25.529573Z",
     "start_time": "2024-06-20T07:16:25.527390Z"
    }
   },
   "cell_type": "code",
   "source": "import tensorflow as tf",
   "id": "5d891dc29b3d912f",
   "outputs": [],
   "execution_count": 66
  },
  {
   "metadata": {
    "ExecuteTime": {
     "end_time": "2024-06-20T07:16:26.338260Z",
     "start_time": "2024-06-20T07:16:26.145341Z"
    }
   },
   "cell_type": "code",
   "source": "model = tf.keras.models.load_model('artifacts/training/model.h5')",
   "id": "d77f193a4165e7b3",
   "outputs": [],
   "execution_count": 67
  },
  {
   "metadata": {
    "ExecuteTime": {
     "end_time": "2024-06-20T07:16:32.831292Z",
     "start_time": "2024-06-20T07:16:32.825890Z"
    }
   },
   "cell_type": "code",
   "source": [
    "from dataclasses import dataclass\n",
    "from pathlib import Path\n",
    "\n",
    "@dataclass\n",
    "class EvaluationConfig:\n",
    "    path_to_model : Path\n",
    "    training_data : Path\n",
    "    all_params : dict\n",
    "    mlflow_uri : str\n",
    "    params_image_size : list\n",
    "    params_batch_size : int\n"
   ],
   "id": "d292f7c67a13dc06",
   "outputs": [],
   "execution_count": 69
  },
  {
   "metadata": {
    "ExecuteTime": {
     "end_time": "2024-06-20T07:16:33.235535Z",
     "start_time": "2024-06-20T07:16:33.231912Z"
    }
   },
   "cell_type": "code",
   "source": [
    "from cnnClassifier.constants import *\n",
    "from cnnClassifier.utils.common import *"
   ],
   "id": "3725f1f4580cb39a",
   "outputs": [],
   "execution_count": 70
  },
  {
   "metadata": {
    "ExecuteTime": {
     "end_time": "2024-06-20T07:16:34.051056Z",
     "start_time": "2024-06-20T07:16:34.045690Z"
    }
   },
   "cell_type": "code",
   "source": [
    "class ConfigurationManager:\n",
    "    def __init__(\n",
    "        self, \n",
    "        config_filepath = CONFIG_FILE_PATH,\n",
    "        params_filepath = PARAMS_FILE_PATH):\n",
    "        self.config = read_yaml(config_filepath)\n",
    "        self.params = read_yaml(params_filepath)\n",
    "        create_directories([self.config.artifacts_root])\n",
    "\n",
    "    \n",
    "    def get_evaluation_config(self) -> EvaluationConfig:\n",
    "        eval_config = EvaluationConfig(\n",
    "            path_to_model=\"artifacts/training/model.h5\",\n",
    "            training_data=\"artifacts/data_ingestion/Chest-CT-Scan-data\",\n",
    "            mlflow_uri=\"https://dagshub.com/georgejoshi10/CancerDetection.mlflow\",\n",
    "            all_params=self.params,\n",
    "            params_image_size=self.params.IMAGE_SIZE,\n",
    "            params_batch_size=self.params.BATCH_SIZE\n",
    "        )\n",
    "        return eval_config"
   ],
   "id": "94ee1dcb5c66fd51",
   "outputs": [],
   "execution_count": 71
  },
  {
   "metadata": {
    "ExecuteTime": {
     "end_time": "2024-06-20T07:10:10.012958Z",
     "start_time": "2024-06-20T07:10:10.011056Z"
    }
   },
   "cell_type": "code",
   "source": [
    "import tensorflow as tf\n",
    "from pathlib import Path\n",
    "import mlflow\n",
    "import mlflow.keras\n",
    "from urllib.parse import urlparse"
   ],
   "id": "4b05115fe8908514",
   "outputs": [],
   "execution_count": 39
  },
  {
   "metadata": {
    "ExecuteTime": {
     "end_time": "2024-06-20T07:46:32.607575Z",
     "start_time": "2024-06-20T07:46:32.593912Z"
    }
   },
   "cell_type": "code",
   "source": [
    "class Evaluation:\n",
    "    def __init__(self, config: EvaluationConfig):\n",
    "        self.config = config\n",
    "\n",
    "    \n",
    "    def _valid_generator(self):\n",
    "\n",
    "        self.valid_generator = tf.keras.utils.image_dataset_from_directory(\n",
    "            directory=self.config.training_data,\n",
    "            batch_size=self.config.params_batch_size,\n",
    "            image_size=tuple(self.config.params_image_size[:2]),\n",
    "            labels='inferred',\n",
    "            label_mode='categorical',\n",
    "            class_names=['adenocarcinoma', 'normal'],\n",
    "            subset='validation',\n",
    "            seed=143,\n",
    "            color_mode='rgb' if self.config.params_image_size[2] == 3 else 'grayscale',\n",
    "            validation_split=0.2,\n",
    "        ).cache().prefetch(tf.data.AUTOTUNE)\n",
    "\n",
    "    @staticmethod\n",
    "    def load_model(path: Path) -> tf.keras.Model:\n",
    "        return tf.keras.models.load_model(path)\n",
    "    \n",
    "\n",
    "    def evaluation(self):\n",
    "        self.model = self.load_model(self.config.path_to_model)\n",
    "        self._valid_generator()\n",
    "        self.score = model.evaluate(self.valid_generator)\n",
    "        self.save_score()\n",
    "\n",
    "    def save_score(self):\n",
    "        scores = {\"loss\": self.score[0], \"accuracy\": self.score[1]}\n",
    "        save_json(path=Path(\"scores.json\"), data=scores)\n",
    "\n",
    "    \n",
    "    def log_into_mlflow(self):\n",
    "        mlflow.set_registry_uri(self.config.mlflow_uri)\n",
    "        tracking_url_type_store = urlparse(mlflow.get_tracking_uri()).scheme\n",
    "        \n",
    "        with mlflow.start_run():\n",
    "            mlflow.log_params(self.config.all_params)\n",
    "            mlflow.log_metrics(\n",
    "                {\"loss\": self.score[0], \"accuracy\": self.score[1]}\n",
    "            )\n",
    "            # Model registry does not work with file store\n",
    "            try:\n",
    "                if tracking_url_type_store != \"file\":\n",
    "    \n",
    "                    # Register the model\n",
    "                    # There are other ways to use the Model Registry, which depends on the use case,\n",
    "                    # please refer to the doc for more information:\n",
    "                    # https://mlflow.org/docs/latest/model-registry.html#api-workflow\n",
    "                    mlflow.keras.log_model(self.model, \"model\", registered_model_name=\"VGG16Model\")\n",
    "                else:\n",
    "                    mlflow.keras.log_model(self.model, \"model\")\n",
    "                    \n",
    "                logger.info('Model saved Successfully')\n",
    "            except Exception as e:\n",
    "                logger.info('Failed saving the model')\n",
    "                "
   ],
   "id": "1683302b3e0d9f87",
   "outputs": [],
   "execution_count": 98
  },
  {
   "metadata": {
    "ExecuteTime": {
     "end_time": "2024-06-20T07:46:42.173966Z",
     "start_time": "2024-06-20T07:46:32.783067Z"
    }
   },
   "cell_type": "code",
   "source": [
    "try:\n",
    "    config = ConfigurationManager()\n",
    "    eval_config = config.get_evaluation_config()\n",
    "    evaluation = Evaluation(eval_config)\n",
    "    evaluation.evaluation()\n",
    "    evaluation.log_into_mlflow()\n",
    "\n",
    "except Exception as e:\n",
    "   raise e"
   ],
   "id": "3bddb6879faf4f6a",
   "outputs": [
    {
     "name": "stdout",
     "output_type": "stream",
     "text": [
      "[2024-06-20 13:31:32,788: INFO: common: yaml config/config.yaml loaded successfully]\n",
      "[2024-06-20 13:31:32,791: INFO: common: yaml params.yaml loaded successfully]\n",
      "[2024-06-20 13:31:32,792: INFO: common: created directory at: artifacts]\n",
      "Found 343 files belonging to 2 classes.\n",
      "Using 68 files for validation.\n",
      "9/9 [==============================] - 7s 704ms/step - loss: 8.8354e-07 - accuracy: 1.0000\n",
      "[2024-06-20 13:31:39,665: INFO: common: json file saved at: scores.json]\n"
     ]
    },
    {
     "name": "stderr",
     "output_type": "stream",
     "text": [
      "2024/06/20 13:31:41 WARNING mlflow.tensorflow: You are saving a TensorFlow Core model or Keras model without a signature. Inference with mlflow.pyfunc.spark_udf() will not work unless the model's pyfunc representation accepts pandas DataFrames as inference inputs.\n"
     ]
    },
    {
     "name": "stdout",
     "output_type": "stream",
     "text": [
      "INFO:tensorflow:Assets written to: /var/folders/4n/gbrmm4bs17ldvh4_ypty4z5c0000gn/T/tmp7qx3qd8o/model/data/model/assets\n",
      "[2024-06-20 13:31:41,757: INFO: builder_impl: Assets written to: /var/folders/4n/gbrmm4bs17ldvh4_ypty4z5c0000gn/T/tmp7qx3qd8o/model/data/model/assets]\n",
      "[2024-06-20 13:31:41,778: INFO: 3716819959: Failed saving the model]\n"
     ]
    }
   ],
   "execution_count": 99
  },
  {
   "metadata": {
    "ExecuteTime": {
     "end_time": "2024-06-20T07:43:42.591387Z",
     "start_time": "2024-06-20T07:43:42.583966Z"
    }
   },
   "cell_type": "code",
   "source": [
    "import keras\n",
    "keras.__name__\n",
    "\n"
   ],
   "id": "8fd1a3ee30827c74",
   "outputs": [
    {
     "data": {
      "text/plain": [
       "'keras'"
      ]
     },
     "execution_count": 96,
     "metadata": {},
     "output_type": "execute_result"
    }
   ],
   "execution_count": 96
  },
  {
   "metadata": {},
   "cell_type": "code",
   "outputs": [],
   "execution_count": null,
   "source": "",
   "id": "eadc2c9cf0dd9062"
  }
 ],
 "metadata": {
  "kernelspec": {
   "display_name": "Python 3",
   "language": "python",
   "name": "python3"
  },
  "language_info": {
   "codemirror_mode": {
    "name": "ipython",
    "version": 2
   },
   "file_extension": ".py",
   "mimetype": "text/x-python",
   "name": "python",
   "nbconvert_exporter": "python",
   "pygments_lexer": "ipython2",
   "version": "2.7.6"
  }
 },
 "nbformat": 4,
 "nbformat_minor": 5
}
