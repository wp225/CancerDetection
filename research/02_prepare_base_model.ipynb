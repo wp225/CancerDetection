{
 "cells": [
  {
   "cell_type": "code",
   "id": "initial_id",
   "metadata": {
    "collapsed": true,
    "ExecuteTime": {
     "end_time": "2024-06-19T08:49:41.762148Z",
     "start_time": "2024-06-19T08:49:41.755858Z"
    }
   },
   "source": [
    "import os\n",
    "%pwd"
   ],
   "outputs": [
    {
     "data": {
      "text/plain": [
       "'/Users/anshujoshi/PycharmProjects/CancerDetection/research'"
      ]
     },
     "execution_count": 2,
     "metadata": {},
     "output_type": "execute_result"
    }
   ],
   "execution_count": 2
  },
  {
   "metadata": {
    "ExecuteTime": {
     "end_time": "2024-06-19T08:49:43.892459Z",
     "start_time": "2024-06-19T08:49:43.887269Z"
    }
   },
   "cell_type": "code",
   "source": [
    "os.chdir('..')\n",
    "%pwd"
   ],
   "id": "5ff9ca3232295b35",
   "outputs": [
    {
     "data": {
      "text/plain": [
       "'/Users/anshujoshi/PycharmProjects/CancerDetection'"
      ]
     },
     "execution_count": 3,
     "metadata": {},
     "output_type": "execute_result"
    }
   ],
   "execution_count": 3
  },
  {
   "metadata": {
    "ExecuteTime": {
     "end_time": "2024-06-19T08:49:45.587710Z",
     "start_time": "2024-06-19T08:49:45.582432Z"
    }
   },
   "cell_type": "code",
   "source": [
    "from dataclasses import dataclass\n",
    "from pathlib import Path\n",
    "from typing import List\n",
    "\n",
    "\n",
    "@dataclass(frozen=True)\n",
    "class PrepareBaseModelConfig:\n",
    "    root_dir: Path\n",
    "    base_model_path: Path\n",
    "    updated_model_path: Path\n",
    "    params_image_size: List\n",
    "    params_include_top: bool\n",
    "    params_learning_rate: float\n",
    "    params_classes: int\n",
    "    params_weight: str\n",
    "\n"
   ],
   "id": "16eb4cd63b883919",
   "outputs": [],
   "execution_count": 4
  },
  {
   "metadata": {
    "ExecuteTime": {
     "end_time": "2024-06-19T08:49:46.723260Z",
     "start_time": "2024-06-19T08:49:46.526125Z"
    }
   },
   "cell_type": "code",
   "source": [
    "from cnnClassifier.constants import *\n",
    "from cnnClassifier.utils.common import read_yaml, create_directories"
   ],
   "id": "2ab22fa2fa7f2ef1",
   "outputs": [
    {
     "name": "stdout",
     "output_type": "stream",
     "text": [
      "CONFIG_FILE_PATH set to: config/config.yaml\n",
      "PARAMS_FILE_PATH set to: params.yaml\n"
     ]
    }
   ],
   "execution_count": 5
  },
  {
   "metadata": {
    "ExecuteTime": {
     "end_time": "2024-06-19T08:49:47.324114Z",
     "start_time": "2024-06-19T08:49:47.320343Z"
    }
   },
   "cell_type": "code",
   "source": [
    "class ConfigurationManager:\n",
    "    def __init__(\n",
    "            self,\n",
    "            config_filepath=CONFIG_FILE_PATH,\n",
    "            params_filepath=PARAMS_FILE_PATH):\n",
    "        self.config = read_yaml(config_filepath)\n",
    "        self.params = read_yaml(params_filepath)\n",
    "\n",
    "        create_directories([self.config.artifacts_root])\n",
    "\n",
    "    def get_prepare_base_model_config(self) -> PrepareBaseModelConfig:\n",
    "        config = self.config.prepare_base_model\n",
    "\n",
    "        create_directories([config.root_dir])\n",
    "\n",
    "        prepare_base_model_config = PrepareBaseModelConfig(\n",
    "            root_dir=Path(config.root_dir),\n",
    "            base_model_path=Path(config.base_model_path),\n",
    "            updated_model_path=Path(config.updated_base_model),\n",
    "            params_image_size=self.params.IMAGE_SIZE,\n",
    "            params_include_top=self.params.INCLUDE_TOP,\n",
    "            params_learning_rate=self.params.LEARNINIG_RATE,\n",
    "            params_classes=self.params.CLASSES,\n",
    "            params_weight=self.params.WEIGHTS,\n",
    "        )\n",
    "\n",
    "        return prepare_base_model_config"
   ],
   "id": "802847327375f0cd",
   "outputs": [],
   "execution_count": 6
  },
  {
   "metadata": {
    "ExecuteTime": {
     "end_time": "2024-06-19T08:49:51.132839Z",
     "start_time": "2024-06-19T08:49:47.935812Z"
    }
   },
   "cell_type": "code",
   "source": "import tensorflow as tf",
   "id": "9c41ecf7fb7d9f7",
   "outputs": [],
   "execution_count": 7
  },
  {
   "metadata": {
    "ExecuteTime": {
     "end_time": "2024-06-19T08:49:51.153344Z",
     "start_time": "2024-06-19T08:49:51.133825Z"
    }
   },
   "cell_type": "code",
   "source": [
    "class PrepareBaseModel:\n",
    "    def __init__(self, config: PrepareBaseModelConfig):\n",
    "        self.config = config\n",
    "\n",
    "    def get_base_model(self):\n",
    "        self.model = tf.keras.applications.vgg16.VGG16(\n",
    "            input_shape=self.config.params_image_size,\n",
    "            weights=self.config.params_weight,\n",
    "            include_top=self.config.params_include_top,\n",
    "        )\n",
    "\n",
    "        self.save_model(\n",
    "            self.config.base_model_path,\n",
    "            self.model\n",
    "        )\n",
    "\n",
    "    @staticmethod\n",
    "    def _prepare_full_model(model: tf.keras.Model, classes: int, freeze_all: bool, freeze_till: int,\n",
    "                            learning_rate: float) -> tf.keras.Model:\n",
    "        if freeze_all:\n",
    "            for layer in model.layers:\n",
    "                layer.trainable = False\n",
    "        elif freeze_till is not None:\n",
    "            for layer in model.layers[:freeze_till]:\n",
    "                layer.trainable = False\n",
    "            for layer in model.layers[freeze_till:]:\n",
    "                layer.trainable = True\n",
    "                \n",
    "        x = model.output\n",
    "        x = tf.keras.layers.GlobalAveragePooling2D()(x)\n",
    "        x = tf.keras.layers.Dense(1024, activation='relu')(x)\n",
    "        predictions = tf.keras.layers.Dense(classes, activation='softmax')(x)\n",
    "        \n",
    "        full_model = tf.keras.Model(inputs = model.input,outputs = predictions)\n",
    "        \n",
    "        full_model.compile(\n",
    "            optimizer=tf.keras.optimizers.Adam(learning_rate=learning_rate),\n",
    "            loss='categorical_crossentropy',\n",
    "            metrics=['accuracy']  \n",
    "        )\n",
    "        \n",
    "        return full_model\n",
    "    \n",
    "    def update_base_model(self):\n",
    "        self.full_model = self._prepare_full_model(\n",
    "            model=self.model,\n",
    "            classes=self.config.params_classes,\n",
    "            freeze_all=True,\n",
    "            freeze_till=None,\n",
    "            learning_rate= self.config.params_learning_rate  \n",
    "        )\n",
    "        \n",
    "        self.save_model(\n",
    "            self.config.updated_model_path,\n",
    "            self.full_model\n",
    "        )\n",
    "        \n",
    "\n",
    "    @staticmethod\n",
    "    def save_model(path: Path, model: tf.keras.Model):\n",
    "        model.save(path) "
   ],
   "id": "3f5d0fb8951f33e8",
   "outputs": [],
   "execution_count": 8
  },
  {
   "metadata": {
    "ExecuteTime": {
     "end_time": "2024-06-19T08:49:51.711080Z",
     "start_time": "2024-06-19T08:49:51.154239Z"
    }
   },
   "cell_type": "code",
   "source": [
    "try:\n",
    "    config = ConfigurationManager()\n",
    "    prepare_base_model_config = config.get_prepare_base_model_config()\n",
    "    prepare_base_model = PrepareBaseModel(config=prepare_base_model_config)\n",
    "    prepare_base_model.get_base_model()\n",
    "    prepare_base_model.update_base_model()\n",
    "except Exception as e:\n",
    "    raise e\n",
    "    "
   ],
   "id": "73b80bb384eb0027",
   "outputs": [
    {
     "name": "stdout",
     "output_type": "stream",
     "text": [
      "[2024-06-19 14:34:51,156: INFO: common: yaml config/config.yaml loaded successfully]\n",
      "[2024-06-19 14:34:51,158: INFO: common: yaml params.yaml loaded successfully]\n",
      "[2024-06-19 14:34:51,158: INFO: common: created directory at: artifacts]\n",
      "[2024-06-19 14:34:51,159: INFO: common: created directory at: artifacts/prepare_base_model]\n",
      "[2024-06-19 14:34:51,454: WARNING: saving_utils: Compiled the loaded model, but the compiled metrics have yet to be built. `model.compile_metrics` will be empty until you train or evaluate the model.]\n",
      "[2024-06-19 14:34:51,590: WARNING: optimizer: At this time, the v2.11+ optimizer `tf.keras.optimizers.Adam` runs slowly on M1/M2 Macs, please use the legacy Keras optimizer instead, located at `tf.keras.optimizers.legacy.Adam`.]\n",
      "[2024-06-19 14:34:51,592: WARNING: __init__: There is a known slowdown when using v2.11+ Keras optimizers on M1/M2 Macs. Falling back to the legacy Keras optimizer, i.e., `tf.keras.optimizers.legacy.Adam`.]\n"
     ]
    },
    {
     "name": "stderr",
     "output_type": "stream",
     "text": [
      "/Users/anshujoshi/anaconda3/envs/cancer/lib/python3.8/site-packages/keras/src/engine/training.py:3000: UserWarning: You are saving your model as an HDF5 file via `model.save()`. This file format is considered legacy. We recommend using instead the native Keras format, e.g. `model.save('my_model.keras')`.\n",
      "  saving_api.save_model(\n"
     ]
    }
   ],
   "execution_count": 9
  },
  {
   "metadata": {
    "ExecuteTime": {
     "end_time": "2024-06-18T12:35:03.304840Z",
     "start_time": "2024-06-18T12:35:03.299933Z"
    }
   },
   "cell_type": "code",
   "source": "%pwd",
   "id": "b73af2898299dd09",
   "outputs": [
    {
     "data": {
      "text/plain": [
       "'/Users/anshujoshi/PycharmProjects/CancerDetection/research'"
      ]
     },
     "execution_count": 10,
     "metadata": {},
     "output_type": "execute_result"
    }
   ],
   "execution_count": 10
  },
  {
   "metadata": {},
   "cell_type": "code",
   "outputs": [],
   "execution_count": null,
   "source": "",
   "id": "518e299553daf040"
  }
 ],
 "metadata": {
  "kernelspec": {
   "display_name": "Python 3",
   "language": "python",
   "name": "python3"
  },
  "language_info": {
   "codemirror_mode": {
    "name": "ipython",
    "version": 2
   },
   "file_extension": ".py",
   "mimetype": "text/x-python",
   "name": "python",
   "nbconvert_exporter": "python",
   "pygments_lexer": "ipython2",
   "version": "2.7.6"
  }
 },
 "nbformat": 4,
 "nbformat_minor": 5
}
